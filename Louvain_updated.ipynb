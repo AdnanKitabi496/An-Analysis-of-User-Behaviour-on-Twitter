{
 "cells": [
  {
   "cell_type": "code",
   "execution_count": null,
   "metadata": {},
   "outputs": [
    {
     "name": "stdout",
     "output_type": "stream",
     "text": [
      "Name: \n",
      "Type: Graph\n",
      "Number of nodes: 64216\n",
      "Number of edges: 211806\n",
      "Average degree:   6.5967\n",
      "Modularity is: 0.5369217526833889\n"
     ]
    }
   ],
   "source": [
    "import networkx as nx\n",
    "#import community as community_louvain\n",
    "import community.community_louvain\n",
    "import matplotlib.pyplot as plt\n",
    "import matplotlib.cm as cm\n",
    "import pandas as pd\n",
    "import pprint\n",
    "data_language_german = pd.read_csv(\"colab_3Dec.csv\")\n",
    "data_language_german = data_language_german.loc[~pd.isnull(data_language_german[\"Tweet_From\"])]\n",
    "data_language_german= data_language_german.loc[~pd.isnull(data_language_german[\"Screen Name\"])]\n",
    "data_language_german = data_language_german[[\"Tweet_From\",'Screen Name']]\n",
    "edges = []\n",
    "nodes = set()\n",
    "tf_from = [tf for tf in data_language_german[\"Tweet_From\"]]\n",
    "edges = zip(data_language_german['Screen Name'], data_language_german['Tweet_From'])\n",
    "nodes.update(tf_from)\n",
    "edges = list(set(tuple(edge) for edge in edges))\n",
    "nodes = list(set(nodes))\n",
    "G = nx.Graph()\n",
    "G.add_nodes_from(nodes)\n",
    "G.add_edges_from(edges)\n",
    "\n",
    "print(nx.info(G))\n",
    "# compute the best partition\n",
    "partition = community.community_louvain.best_partition(G, weight=\"weight\")\n",
    "size = float(len(set(partition.values())))\n",
    "#pos = nx.spring_layout(G)\n",
    "count = 0.\n",
    "communities_louvain = []\n",
    "for com in set(partition.values()):\n",
    "    count = count + 1.\n",
    "    list_nodes = [nodes for nodes in partition.keys() if partition[nodes] == com]\n",
    "    communities_louvain.append(list_nodes)\n",
    "    #nx.draw_networkx_nodes(G, pos, list_nodes, node_size=20, node_color=str(count / size))\n",
    "m = community.community_louvain.modularity(partition, G)\n",
    "print (\"Modularity is:\", m)\n",
    "\n",
    "centralScore = nx.betweenness_centrality(G)\n",
    "inScore = G.in_degree()\n",
    "outScore = G.out_degree()\n",
    "print(\"\\nCentrality betweenness:\", centralScore)\n",
    "print(\"\\nIn degree of vertex:\", inScore)\n",
    "print(\"\\nOut degree of vertex:\", outScore)\n",
    "\n",
    "communities_louvain.sort(key=len, reverse=True)\n",
    "print(\"\\nPartition Louvain, \" + str(len(communities_louvain)) + \" clusters detected\")\n",
    "print(\"\\nTop 5 Communities\")\n",
    "pprint.pprint(communities_louvain[0:5])"
   ]
  },
  {
   "cell_type": "code",
   "execution_count": null,
   "metadata": {},
   "outputs": [],
   "source": []
  }
 ],
 "metadata": {
  "kernelspec": {
   "display_name": "Python 3",
   "language": "python",
   "name": "python3"
  },
  "language_info": {
   "codemirror_mode": {
    "name": "ipython",
    "version": 3
   },
   "file_extension": ".py",
   "mimetype": "text/x-python",
   "name": "python",
   "nbconvert_exporter": "python",
   "pygments_lexer": "ipython3",
   "version": "3.7.6"
  }
 },
 "nbformat": 4,
 "nbformat_minor": 2
}
